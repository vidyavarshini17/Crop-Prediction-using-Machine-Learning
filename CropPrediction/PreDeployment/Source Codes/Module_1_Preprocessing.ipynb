{
 "cells": [
  {
   "cell_type": "markdown",
   "id": "c75380f1",
   "metadata": {},
   "source": [
    "# Module 1: Data validation and pre-processing"
   ]
  },
  {
   "cell_type": "code",
   "execution_count": 1,
   "id": "f7fe4da0",
   "metadata": {},
   "outputs": [],
   "source": [
    "import numpy as n\n",
    "import pandas as p\n",
    "from sklearn.preprocessing import LabelEncoder"
   ]
  },
  {
   "cell_type": "code",
   "execution_count": 2,
   "id": "e75cdbcc",
   "metadata": {},
   "outputs": [],
   "source": [
    "import warnings\n",
    "warnings.filterwarnings('ignore')"
   ]
  },
  {
   "cell_type": "code",
   "execution_count": 3,
   "id": "610b194c",
   "metadata": {},
   "outputs": [],
   "source": [
    "df = p.read_csv('crop.csv') #load the dataset as dataframe"
   ]
  },
  {
   "cell_type": "code",
   "execution_count": 4,
   "id": "c91ff992",
   "metadata": {},
   "outputs": [
    {
     "data": {
      "text/plain": [
       "Index(['nitrogen', 'phosphorus', 'potassium', 'temperature', 'humidity', 'ph',\n",
       "       'rainfall', 'label'],\n",
       "      dtype='object')"
      ]
     },
     "execution_count": 4,
     "metadata": {},
     "output_type": "execute_result"
    }
   ],
   "source": [
    "df.columns #Returns columns of dataframe"
   ]
  },
  {
   "cell_type": "code",
   "execution_count": 5,
   "id": "05234433",
   "metadata": {},
   "outputs": [
    {
     "name": "stdout",
     "output_type": "stream",
     "text": [
      "<class 'pandas.core.frame.DataFrame'>\n",
      "RangeIndex: 2200 entries, 0 to 2199\n",
      "Data columns (total 8 columns):\n",
      " #   Column       Non-Null Count  Dtype  \n",
      "---  ------       --------------  -----  \n",
      " 0   nitrogen     2200 non-null   int64  \n",
      " 1   phosphorus   2200 non-null   int64  \n",
      " 2   potassium    2200 non-null   int64  \n",
      " 3   temperature  2200 non-null   float64\n",
      " 4   humidity     2200 non-null   float64\n",
      " 5   ph           2200 non-null   float64\n",
      " 6   rainfall     2200 non-null   float64\n",
      " 7   label        2200 non-null   object \n",
      "dtypes: float64(4), int64(3), object(1)\n",
      "memory usage: 137.6+ KB\n"
     ]
    }
   ],
   "source": [
    "df.info() #Returns basic description of dataframe"
   ]
  },
  {
   "cell_type": "code",
   "execution_count": 6,
   "id": "5c7eadf3",
   "metadata": {},
   "outputs": [
    {
     "data": {
      "text/html": [
       "<div>\n",
       "<style scoped>\n",
       "    .dataframe tbody tr th:only-of-type {\n",
       "        vertical-align: middle;\n",
       "    }\n",
       "\n",
       "    .dataframe tbody tr th {\n",
       "        vertical-align: top;\n",
       "    }\n",
       "\n",
       "    .dataframe thead th {\n",
       "        text-align: right;\n",
       "    }\n",
       "</style>\n",
       "<table border=\"1\" class=\"dataframe\">\n",
       "  <thead>\n",
       "    <tr style=\"text-align: right;\">\n",
       "      <th></th>\n",
       "      <th>nitrogen</th>\n",
       "      <th>phosphorus</th>\n",
       "      <th>potassium</th>\n",
       "      <th>temperature</th>\n",
       "      <th>humidity</th>\n",
       "      <th>ph</th>\n",
       "      <th>rainfall</th>\n",
       "      <th>label</th>\n",
       "    </tr>\n",
       "  </thead>\n",
       "  <tbody>\n",
       "    <tr>\n",
       "      <th>0</th>\n",
       "      <td>90</td>\n",
       "      <td>42</td>\n",
       "      <td>43</td>\n",
       "      <td>20.879744</td>\n",
       "      <td>82.002744</td>\n",
       "      <td>6.502985</td>\n",
       "      <td>202.935536</td>\n",
       "      <td>rice</td>\n",
       "    </tr>\n",
       "    <tr>\n",
       "      <th>1</th>\n",
       "      <td>85</td>\n",
       "      <td>58</td>\n",
       "      <td>41</td>\n",
       "      <td>21.770462</td>\n",
       "      <td>80.319644</td>\n",
       "      <td>7.038096</td>\n",
       "      <td>226.655537</td>\n",
       "      <td>rice</td>\n",
       "    </tr>\n",
       "    <tr>\n",
       "      <th>2</th>\n",
       "      <td>60</td>\n",
       "      <td>55</td>\n",
       "      <td>44</td>\n",
       "      <td>23.004459</td>\n",
       "      <td>82.320763</td>\n",
       "      <td>7.840207</td>\n",
       "      <td>263.964248</td>\n",
       "      <td>rice</td>\n",
       "    </tr>\n",
       "  </tbody>\n",
       "</table>\n",
       "</div>"
      ],
      "text/plain": [
       "   nitrogen  phosphorus  potassium  temperature   humidity        ph  \\\n",
       "0        90          42         43    20.879744  82.002744  6.502985   \n",
       "1        85          58         41    21.770462  80.319644  7.038096   \n",
       "2        60          55         44    23.004459  82.320763  7.840207   \n",
       "\n",
       "     rainfall label  \n",
       "0  202.935536  rice  \n",
       "1  226.655537  rice  \n",
       "2  263.964248  rice  "
      ]
     },
     "execution_count": 6,
     "metadata": {},
     "output_type": "execute_result"
    }
   ],
   "source": [
    "df.head(3) #Returns first 3 rows of data"
   ]
  },
  {
   "cell_type": "code",
   "execution_count": 7,
   "id": "4d8c42b3",
   "metadata": {},
   "outputs": [
    {
     "data": {
      "text/plain": [
       "(2200, 8)"
      ]
     },
     "execution_count": 7,
     "metadata": {},
     "output_type": "execute_result"
    }
   ],
   "source": [
    "df.shape #dimension of dataframe"
   ]
  },
  {
   "cell_type": "code",
   "execution_count": 8,
   "id": "56a7efd5",
   "metadata": {},
   "outputs": [
    {
     "data": {
      "text/html": [
       "<div>\n",
       "<style scoped>\n",
       "    .dataframe tbody tr th:only-of-type {\n",
       "        vertical-align: middle;\n",
       "    }\n",
       "\n",
       "    .dataframe tbody tr th {\n",
       "        vertical-align: top;\n",
       "    }\n",
       "\n",
       "    .dataframe thead th {\n",
       "        text-align: right;\n",
       "    }\n",
       "</style>\n",
       "<table border=\"1\" class=\"dataframe\">\n",
       "  <thead>\n",
       "    <tr style=\"text-align: right;\">\n",
       "      <th></th>\n",
       "      <th>nitrogen</th>\n",
       "      <th>phosphorus</th>\n",
       "      <th>potassium</th>\n",
       "      <th>temperature</th>\n",
       "      <th>humidity</th>\n",
       "      <th>ph</th>\n",
       "      <th>rainfall</th>\n",
       "      <th>label</th>\n",
       "    </tr>\n",
       "  </thead>\n",
       "  <tbody>\n",
       "    <tr>\n",
       "      <th>0</th>\n",
       "      <td>False</td>\n",
       "      <td>False</td>\n",
       "      <td>False</td>\n",
       "      <td>False</td>\n",
       "      <td>False</td>\n",
       "      <td>False</td>\n",
       "      <td>False</td>\n",
       "      <td>False</td>\n",
       "    </tr>\n",
       "    <tr>\n",
       "      <th>1</th>\n",
       "      <td>False</td>\n",
       "      <td>False</td>\n",
       "      <td>False</td>\n",
       "      <td>False</td>\n",
       "      <td>False</td>\n",
       "      <td>False</td>\n",
       "      <td>False</td>\n",
       "      <td>False</td>\n",
       "    </tr>\n",
       "    <tr>\n",
       "      <th>2</th>\n",
       "      <td>False</td>\n",
       "      <td>False</td>\n",
       "      <td>False</td>\n",
       "      <td>False</td>\n",
       "      <td>False</td>\n",
       "      <td>False</td>\n",
       "      <td>False</td>\n",
       "      <td>False</td>\n",
       "    </tr>\n",
       "    <tr>\n",
       "      <th>3</th>\n",
       "      <td>False</td>\n",
       "      <td>False</td>\n",
       "      <td>False</td>\n",
       "      <td>False</td>\n",
       "      <td>False</td>\n",
       "      <td>False</td>\n",
       "      <td>False</td>\n",
       "      <td>False</td>\n",
       "    </tr>\n",
       "    <tr>\n",
       "      <th>4</th>\n",
       "      <td>False</td>\n",
       "      <td>False</td>\n",
       "      <td>False</td>\n",
       "      <td>False</td>\n",
       "      <td>False</td>\n",
       "      <td>False</td>\n",
       "      <td>False</td>\n",
       "      <td>False</td>\n",
       "    </tr>\n",
       "    <tr>\n",
       "      <th>...</th>\n",
       "      <td>...</td>\n",
       "      <td>...</td>\n",
       "      <td>...</td>\n",
       "      <td>...</td>\n",
       "      <td>...</td>\n",
       "      <td>...</td>\n",
       "      <td>...</td>\n",
       "      <td>...</td>\n",
       "    </tr>\n",
       "    <tr>\n",
       "      <th>2195</th>\n",
       "      <td>False</td>\n",
       "      <td>False</td>\n",
       "      <td>False</td>\n",
       "      <td>False</td>\n",
       "      <td>False</td>\n",
       "      <td>False</td>\n",
       "      <td>False</td>\n",
       "      <td>False</td>\n",
       "    </tr>\n",
       "    <tr>\n",
       "      <th>2196</th>\n",
       "      <td>False</td>\n",
       "      <td>False</td>\n",
       "      <td>False</td>\n",
       "      <td>False</td>\n",
       "      <td>False</td>\n",
       "      <td>False</td>\n",
       "      <td>False</td>\n",
       "      <td>False</td>\n",
       "    </tr>\n",
       "    <tr>\n",
       "      <th>2197</th>\n",
       "      <td>False</td>\n",
       "      <td>False</td>\n",
       "      <td>False</td>\n",
       "      <td>False</td>\n",
       "      <td>False</td>\n",
       "      <td>False</td>\n",
       "      <td>False</td>\n",
       "      <td>False</td>\n",
       "    </tr>\n",
       "    <tr>\n",
       "      <th>2198</th>\n",
       "      <td>False</td>\n",
       "      <td>False</td>\n",
       "      <td>False</td>\n",
       "      <td>False</td>\n",
       "      <td>False</td>\n",
       "      <td>False</td>\n",
       "      <td>False</td>\n",
       "      <td>False</td>\n",
       "    </tr>\n",
       "    <tr>\n",
       "      <th>2199</th>\n",
       "      <td>False</td>\n",
       "      <td>False</td>\n",
       "      <td>False</td>\n",
       "      <td>False</td>\n",
       "      <td>False</td>\n",
       "      <td>False</td>\n",
       "      <td>False</td>\n",
       "      <td>False</td>\n",
       "    </tr>\n",
       "  </tbody>\n",
       "</table>\n",
       "<p>2200 rows × 8 columns</p>\n",
       "</div>"
      ],
      "text/plain": [
       "      nitrogen  phosphorus  potassium  temperature  humidity     ph  rainfall  \\\n",
       "0        False       False      False        False     False  False     False   \n",
       "1        False       False      False        False     False  False     False   \n",
       "2        False       False      False        False     False  False     False   \n",
       "3        False       False      False        False     False  False     False   \n",
       "4        False       False      False        False     False  False     False   \n",
       "...        ...         ...        ...          ...       ...    ...       ...   \n",
       "2195     False       False      False        False     False  False     False   \n",
       "2196     False       False      False        False     False  False     False   \n",
       "2197     False       False      False        False     False  False     False   \n",
       "2198     False       False      False        False     False  False     False   \n",
       "2199     False       False      False        False     False  False     False   \n",
       "\n",
       "      label  \n",
       "0     False  \n",
       "1     False  \n",
       "2     False  \n",
       "3     False  \n",
       "4     False  \n",
       "...     ...  \n",
       "2195  False  \n",
       "2196  False  \n",
       "2197  False  \n",
       "2198  False  \n",
       "2199  False  \n",
       "\n",
       "[2200 rows x 8 columns]"
      ]
     },
     "execution_count": 8,
     "metadata": {},
     "output_type": "execute_result"
    }
   ],
   "source": [
    "df.isnull() #returns True if value is NULL else returns False"
   ]
  },
  {
   "cell_type": "code",
   "execution_count": 9,
   "id": "921dbcf0",
   "metadata": {},
   "outputs": [
    {
     "data": {
      "text/plain": [
       "nitrogen       0\n",
       "phosphorus     0\n",
       "potassium      0\n",
       "temperature    0\n",
       "humidity       0\n",
       "ph             0\n",
       "rainfall       0\n",
       "label          0\n",
       "dtype: int64"
      ]
     },
     "execution_count": 9,
     "metadata": {},
     "output_type": "execute_result"
    }
   ],
   "source": [
    "df.isnull().sum() #Return sum of missing values in each column"
   ]
  },
  {
   "cell_type": "code",
   "execution_count": 10,
   "id": "225b158f",
   "metadata": {},
   "outputs": [
    {
     "data": {
      "text/html": [
       "<div>\n",
       "<style scoped>\n",
       "    .dataframe tbody tr th:only-of-type {\n",
       "        vertical-align: middle;\n",
       "    }\n",
       "\n",
       "    .dataframe tbody tr th {\n",
       "        vertical-align: top;\n",
       "    }\n",
       "\n",
       "    .dataframe thead th {\n",
       "        text-align: right;\n",
       "    }\n",
       "</style>\n",
       "<table border=\"1\" class=\"dataframe\">\n",
       "  <thead>\n",
       "    <tr style=\"text-align: right;\">\n",
       "      <th></th>\n",
       "      <th>nitrogen</th>\n",
       "      <th>phosphorus</th>\n",
       "      <th>potassium</th>\n",
       "      <th>temperature</th>\n",
       "      <th>humidity</th>\n",
       "      <th>ph</th>\n",
       "      <th>rainfall</th>\n",
       "    </tr>\n",
       "  </thead>\n",
       "  <tbody>\n",
       "    <tr>\n",
       "      <th>count</th>\n",
       "      <td>2200.000000</td>\n",
       "      <td>2200.000000</td>\n",
       "      <td>2200.000000</td>\n",
       "      <td>2200.000000</td>\n",
       "      <td>2200.000000</td>\n",
       "      <td>2200.000000</td>\n",
       "      <td>2200.000000</td>\n",
       "    </tr>\n",
       "    <tr>\n",
       "      <th>mean</th>\n",
       "      <td>50.551818</td>\n",
       "      <td>53.362727</td>\n",
       "      <td>48.149091</td>\n",
       "      <td>25.616244</td>\n",
       "      <td>71.481779</td>\n",
       "      <td>6.469480</td>\n",
       "      <td>103.463655</td>\n",
       "    </tr>\n",
       "    <tr>\n",
       "      <th>std</th>\n",
       "      <td>36.917334</td>\n",
       "      <td>32.985883</td>\n",
       "      <td>50.647931</td>\n",
       "      <td>5.063749</td>\n",
       "      <td>22.263812</td>\n",
       "      <td>0.773938</td>\n",
       "      <td>54.958389</td>\n",
       "    </tr>\n",
       "    <tr>\n",
       "      <th>min</th>\n",
       "      <td>0.000000</td>\n",
       "      <td>5.000000</td>\n",
       "      <td>5.000000</td>\n",
       "      <td>8.825675</td>\n",
       "      <td>14.258040</td>\n",
       "      <td>3.504752</td>\n",
       "      <td>20.211267</td>\n",
       "    </tr>\n",
       "    <tr>\n",
       "      <th>25%</th>\n",
       "      <td>21.000000</td>\n",
       "      <td>28.000000</td>\n",
       "      <td>20.000000</td>\n",
       "      <td>22.769375</td>\n",
       "      <td>60.261953</td>\n",
       "      <td>5.971693</td>\n",
       "      <td>64.551686</td>\n",
       "    </tr>\n",
       "    <tr>\n",
       "      <th>50%</th>\n",
       "      <td>37.000000</td>\n",
       "      <td>51.000000</td>\n",
       "      <td>32.000000</td>\n",
       "      <td>25.598693</td>\n",
       "      <td>80.473146</td>\n",
       "      <td>6.425045</td>\n",
       "      <td>94.867624</td>\n",
       "    </tr>\n",
       "    <tr>\n",
       "      <th>75%</th>\n",
       "      <td>84.250000</td>\n",
       "      <td>68.000000</td>\n",
       "      <td>49.000000</td>\n",
       "      <td>28.561654</td>\n",
       "      <td>89.948771</td>\n",
       "      <td>6.923643</td>\n",
       "      <td>124.267508</td>\n",
       "    </tr>\n",
       "    <tr>\n",
       "      <th>max</th>\n",
       "      <td>140.000000</td>\n",
       "      <td>145.000000</td>\n",
       "      <td>205.000000</td>\n",
       "      <td>43.675493</td>\n",
       "      <td>99.981876</td>\n",
       "      <td>9.935091</td>\n",
       "      <td>298.560117</td>\n",
       "    </tr>\n",
       "  </tbody>\n",
       "</table>\n",
       "</div>"
      ],
      "text/plain": [
       "          nitrogen   phosphorus    potassium  temperature     humidity  \\\n",
       "count  2200.000000  2200.000000  2200.000000  2200.000000  2200.000000   \n",
       "mean     50.551818    53.362727    48.149091    25.616244    71.481779   \n",
       "std      36.917334    32.985883    50.647931     5.063749    22.263812   \n",
       "min       0.000000     5.000000     5.000000     8.825675    14.258040   \n",
       "25%      21.000000    28.000000    20.000000    22.769375    60.261953   \n",
       "50%      37.000000    51.000000    32.000000    25.598693    80.473146   \n",
       "75%      84.250000    68.000000    49.000000    28.561654    89.948771   \n",
       "max     140.000000   145.000000   205.000000    43.675493    99.981876   \n",
       "\n",
       "                ph     rainfall  \n",
       "count  2200.000000  2200.000000  \n",
       "mean      6.469480   103.463655  \n",
       "std       0.773938    54.958389  \n",
       "min       3.504752    20.211267  \n",
       "25%       5.971693    64.551686  \n",
       "50%       6.425045    94.867624  \n",
       "75%       6.923643   124.267508  \n",
       "max       9.935091   298.560117  "
      ]
     },
     "execution_count": 10,
     "metadata": {},
     "output_type": "execute_result"
    }
   ],
   "source": [
    "df.describe() #Returns numerical description"
   ]
  },
  {
   "cell_type": "code",
   "execution_count": 11,
   "id": "98720acf",
   "metadata": {},
   "outputs": [
    {
     "data": {
      "text/plain": [
       "0"
      ]
     },
     "execution_count": 11,
     "metadata": {},
     "output_type": "execute_result"
    }
   ],
   "source": [
    "sum(df.duplicated()) #Returns sum of duplicate data"
   ]
  },
  {
   "cell_type": "code",
   "execution_count": 12,
   "id": "47b69822",
   "metadata": {},
   "outputs": [
    {
     "data": {
      "text/plain": [
       "array([ 90,  85,  60,  74,  78,  69,  94,  89,  68,  91,  93,  77,  88,\n",
       "        76,  67,  83,  98,  66,  97,  84,  73,  92,  95,  99,  63,  62,\n",
       "        64,  82,  79,  65,  75,  71,  72,  70,  86,  61,  81,  80, 100,\n",
       "        87,  96,  40,  23,  39,  22,  36,  32,  58,  59,  42,  28,  43,\n",
       "        27,  50,  25,  31,  26,  54,  57,  49,  46,  38,  35,  52,  44,\n",
       "        24,  29,  20,  56,  37,  51,  41,  34,  30,  33,  47,  53,  45,\n",
       "        48,  13,   2,  17,  12,   6,  10,  19,  11,  18,  21,  16,   9,\n",
       "         1,   7,   8,   0,   3,   4,   5,  14,  15,  55, 105, 108, 118,\n",
       "       101, 106, 109, 117, 114, 110, 112, 111, 102, 116, 119, 107, 104,\n",
       "       103, 120, 113, 115, 133, 136, 126, 121, 129, 122, 140, 131, 135,\n",
       "       123, 125, 139, 132, 127, 130, 134], dtype=int64)"
      ]
     },
     "execution_count": 12,
     "metadata": {},
     "output_type": "execute_result"
    }
   ],
   "source": [
    "df.nitrogen.unique() #Returns unique values of nitrogen"
   ]
  },
  {
   "cell_type": "code",
   "execution_count": 13,
   "id": "79c6fe98",
   "metadata": {},
   "outputs": [
    {
     "data": {
      "text/plain": [
       "array(['rice', 'maize', 'chickpea', 'kidneybeans', 'pigeonpeas',\n",
       "       'mothbeans', 'mungbean', 'blackgram', 'lentil', 'pomegranate',\n",
       "       'banana', 'mango', 'grapes', 'watermelon', 'muskmelon', 'apple',\n",
       "       'orange', 'papaya', 'coconut', 'cotton', 'jute', 'coffee'],\n",
       "      dtype=object)"
      ]
     },
     "execution_count": 13,
     "metadata": {},
     "output_type": "execute_result"
    }
   ],
   "source": [
    "df['label'].unique() #Returns unique labels"
   ]
  },
  {
   "cell_type": "code",
   "execution_count": 14,
   "id": "126927e4",
   "metadata": {},
   "outputs": [
    {
     "data": {
      "text/plain": [
       "array([  5,   6,   7,   8,   9,  10,  11,  12,  13,  14,  15,  16,  17,\n",
       "        18,  19,  20,  21,  22,  23,  24,  25,  26,  27,  28,  29,  30,\n",
       "        31,  32,  33,  34,  35,  36,  37,  38,  39,  40,  41,  42,  43,\n",
       "        44,  45,  46,  47,  48,  49,  50,  51,  52,  53,  54,  55,  75,\n",
       "        76,  77,  78,  79,  80,  81,  82,  83,  84,  85, 195, 196, 197,\n",
       "       198, 199, 200, 201, 202, 203, 204, 205], dtype=int64)"
      ]
     },
     "execution_count": 14,
     "metadata": {},
     "output_type": "execute_result"
    }
   ],
   "source": [
    "df.potassium.sort_values().unique() #Returns unique values of potassium after sorting"
   ]
  },
  {
   "cell_type": "code",
   "execution_count": 15,
   "id": "a25c3b9f",
   "metadata": {},
   "outputs": [
    {
     "data": {
      "text/plain": [
       "mungbean       100\n",
       "jute           100\n",
       "coffee         100\n",
       "orange         100\n",
       "rice           100\n",
       "chickpea       100\n",
       "apple          100\n",
       "muskmelon      100\n",
       "maize          100\n",
       "coconut        100\n",
       "pomegranate    100\n",
       "cotton         100\n",
       "kidneybeans    100\n",
       "grapes         100\n",
       "lentil         100\n",
       "banana         100\n",
       "papaya         100\n",
       "blackgram      100\n",
       "watermelon     100\n",
       "mothbeans      100\n",
       "mango          100\n",
       "pigeonpeas     100\n",
       "Name: label, dtype: int64"
      ]
     },
     "execution_count": 15,
     "metadata": {},
     "output_type": "execute_result"
    }
   ],
   "source": [
    "df['label'].value_counts() #Returns number of instances of each unique label(crop type)"
   ]
  },
  {
   "cell_type": "code",
   "execution_count": 16,
   "id": "6fb7db2e",
   "metadata": {},
   "outputs": [
    {
     "data": {
      "text/html": [
       "<div>\n",
       "<style scoped>\n",
       "    .dataframe tbody tr th:only-of-type {\n",
       "        vertical-align: middle;\n",
       "    }\n",
       "\n",
       "    .dataframe tbody tr th {\n",
       "        vertical-align: top;\n",
       "    }\n",
       "\n",
       "    .dataframe thead th {\n",
       "        text-align: right;\n",
       "    }\n",
       "</style>\n",
       "<table border=\"1\" class=\"dataframe\">\n",
       "  <thead>\n",
       "    <tr style=\"text-align: right;\">\n",
       "      <th></th>\n",
       "      <th>nitrogen</th>\n",
       "      <th>phosphorus</th>\n",
       "      <th>potassium</th>\n",
       "      <th>temperature</th>\n",
       "      <th>humidity</th>\n",
       "      <th>ph</th>\n",
       "      <th>rainfall</th>\n",
       "    </tr>\n",
       "  </thead>\n",
       "  <tbody>\n",
       "    <tr>\n",
       "      <th>nitrogen</th>\n",
       "      <td>1.000000</td>\n",
       "      <td>-0.231460</td>\n",
       "      <td>-0.140512</td>\n",
       "      <td>0.026504</td>\n",
       "      <td>0.190688</td>\n",
       "      <td>0.096683</td>\n",
       "      <td>0.059020</td>\n",
       "    </tr>\n",
       "    <tr>\n",
       "      <th>phosphorus</th>\n",
       "      <td>-0.231460</td>\n",
       "      <td>1.000000</td>\n",
       "      <td>0.736232</td>\n",
       "      <td>-0.127541</td>\n",
       "      <td>-0.118734</td>\n",
       "      <td>-0.138019</td>\n",
       "      <td>-0.063839</td>\n",
       "    </tr>\n",
       "    <tr>\n",
       "      <th>potassium</th>\n",
       "      <td>-0.140512</td>\n",
       "      <td>0.736232</td>\n",
       "      <td>1.000000</td>\n",
       "      <td>-0.160387</td>\n",
       "      <td>0.190859</td>\n",
       "      <td>-0.169503</td>\n",
       "      <td>-0.053461</td>\n",
       "    </tr>\n",
       "    <tr>\n",
       "      <th>temperature</th>\n",
       "      <td>0.026504</td>\n",
       "      <td>-0.127541</td>\n",
       "      <td>-0.160387</td>\n",
       "      <td>1.000000</td>\n",
       "      <td>0.205320</td>\n",
       "      <td>-0.017795</td>\n",
       "      <td>-0.030084</td>\n",
       "    </tr>\n",
       "    <tr>\n",
       "      <th>humidity</th>\n",
       "      <td>0.190688</td>\n",
       "      <td>-0.118734</td>\n",
       "      <td>0.190859</td>\n",
       "      <td>0.205320</td>\n",
       "      <td>1.000000</td>\n",
       "      <td>-0.008483</td>\n",
       "      <td>0.094423</td>\n",
       "    </tr>\n",
       "    <tr>\n",
       "      <th>ph</th>\n",
       "      <td>0.096683</td>\n",
       "      <td>-0.138019</td>\n",
       "      <td>-0.169503</td>\n",
       "      <td>-0.017795</td>\n",
       "      <td>-0.008483</td>\n",
       "      <td>1.000000</td>\n",
       "      <td>-0.109069</td>\n",
       "    </tr>\n",
       "    <tr>\n",
       "      <th>rainfall</th>\n",
       "      <td>0.059020</td>\n",
       "      <td>-0.063839</td>\n",
       "      <td>-0.053461</td>\n",
       "      <td>-0.030084</td>\n",
       "      <td>0.094423</td>\n",
       "      <td>-0.109069</td>\n",
       "      <td>1.000000</td>\n",
       "    </tr>\n",
       "  </tbody>\n",
       "</table>\n",
       "</div>"
      ],
      "text/plain": [
       "             nitrogen  phosphorus  potassium  temperature  humidity        ph  \\\n",
       "nitrogen     1.000000   -0.231460  -0.140512     0.026504  0.190688  0.096683   \n",
       "phosphorus  -0.231460    1.000000   0.736232    -0.127541 -0.118734 -0.138019   \n",
       "potassium   -0.140512    0.736232   1.000000    -0.160387  0.190859 -0.169503   \n",
       "temperature  0.026504   -0.127541  -0.160387     1.000000  0.205320 -0.017795   \n",
       "humidity     0.190688   -0.118734   0.190859     0.205320  1.000000 -0.008483   \n",
       "ph           0.096683   -0.138019  -0.169503    -0.017795 -0.008483  1.000000   \n",
       "rainfall     0.059020   -0.063839  -0.053461    -0.030084  0.094423 -0.109069   \n",
       "\n",
       "             rainfall  \n",
       "nitrogen     0.059020  \n",
       "phosphorus  -0.063839  \n",
       "potassium   -0.053461  \n",
       "temperature -0.030084  \n",
       "humidity     0.094423  \n",
       "ph          -0.109069  \n",
       "rainfall     1.000000  "
      ]
     },
     "execution_count": 16,
     "metadata": {},
     "output_type": "execute_result"
    }
   ],
   "source": [
    "df.corr() #Returns pairwise correlation of the columns"
   ]
  },
  {
   "cell_type": "code",
   "execution_count": 17,
   "id": "8ef969cc",
   "metadata": {},
   "outputs": [],
   "source": [
    "col_to_be_encoded = ['label']\n",
    "le = LabelEncoder() #method to encode and set values between 0 and k-1 for k distinct classes\n",
    "for i in col_to_be_encoded:\n",
    "    df[i] = le.fit_transform(df[i]).astype(int) #Returns encoded labels as int datatype"
   ]
  },
  {
   "cell_type": "code",
   "execution_count": 18,
   "id": "cbe0e665",
   "metadata": {},
   "outputs": [
    {
     "data": {
      "text/plain": [
       "array([20, 11,  3,  9, 18, 13, 14,  2, 10, 19,  1, 12,  7, 21, 15,  0, 16,\n",
       "       17,  4,  6,  8,  5])"
      ]
     },
     "execution_count": 18,
     "metadata": {},
     "output_type": "execute_result"
    }
   ],
   "source": [
    "df['label'].unique()"
   ]
  },
  {
   "cell_type": "code",
   "execution_count": 19,
   "id": "d787becf",
   "metadata": {},
   "outputs": [
    {
     "data": {
      "text/html": [
       "<div>\n",
       "<style scoped>\n",
       "    .dataframe tbody tr th:only-of-type {\n",
       "        vertical-align: middle;\n",
       "    }\n",
       "\n",
       "    .dataframe tbody tr th {\n",
       "        vertical-align: top;\n",
       "    }\n",
       "\n",
       "    .dataframe thead th {\n",
       "        text-align: right;\n",
       "    }\n",
       "</style>\n",
       "<table border=\"1\" class=\"dataframe\">\n",
       "  <thead>\n",
       "    <tr style=\"text-align: right;\">\n",
       "      <th></th>\n",
       "      <th>nitrogen</th>\n",
       "      <th>phosphorus</th>\n",
       "      <th>potassium</th>\n",
       "      <th>temperature</th>\n",
       "      <th>humidity</th>\n",
       "      <th>ph</th>\n",
       "      <th>rainfall</th>\n",
       "      <th>label</th>\n",
       "    </tr>\n",
       "  </thead>\n",
       "  <tbody>\n",
       "    <tr>\n",
       "      <th>2197</th>\n",
       "      <td>118</td>\n",
       "      <td>33</td>\n",
       "      <td>30</td>\n",
       "      <td>24.131797</td>\n",
       "      <td>67.225123</td>\n",
       "      <td>6.362608</td>\n",
       "      <td>173.322839</td>\n",
       "      <td>5</td>\n",
       "    </tr>\n",
       "    <tr>\n",
       "      <th>2198</th>\n",
       "      <td>117</td>\n",
       "      <td>32</td>\n",
       "      <td>34</td>\n",
       "      <td>26.272418</td>\n",
       "      <td>52.127394</td>\n",
       "      <td>6.758793</td>\n",
       "      <td>127.175293</td>\n",
       "      <td>5</td>\n",
       "    </tr>\n",
       "    <tr>\n",
       "      <th>2199</th>\n",
       "      <td>104</td>\n",
       "      <td>18</td>\n",
       "      <td>30</td>\n",
       "      <td>23.603016</td>\n",
       "      <td>60.396475</td>\n",
       "      <td>6.779833</td>\n",
       "      <td>140.937041</td>\n",
       "      <td>5</td>\n",
       "    </tr>\n",
       "  </tbody>\n",
       "</table>\n",
       "</div>"
      ],
      "text/plain": [
       "      nitrogen  phosphorus  potassium  temperature   humidity        ph  \\\n",
       "2197       118          33         30    24.131797  67.225123  6.362608   \n",
       "2198       117          32         34    26.272418  52.127394  6.758793   \n",
       "2199       104          18         30    23.603016  60.396475  6.779833   \n",
       "\n",
       "        rainfall  label  \n",
       "2197  173.322839      5  \n",
       "2198  127.175293      5  \n",
       "2199  140.937041      5  "
      ]
     },
     "execution_count": 19,
     "metadata": {},
     "output_type": "execute_result"
    }
   ],
   "source": [
    "df.tail(3) #Returns last 3 tuples of data"
   ]
  }
 ],
 "metadata": {
  "kernelspec": {
   "display_name": "Python 3",
   "language": "python",
   "name": "python3"
  },
  "language_info": {
   "codemirror_mode": {
    "name": "ipython",
    "version": 3
   },
   "file_extension": ".py",
   "mimetype": "text/x-python",
   "name": "python",
   "nbconvert_exporter": "python",
   "pygments_lexer": "ipython3",
   "version": "3.8.8"
  }
 },
 "nbformat": 4,
 "nbformat_minor": 5
}
